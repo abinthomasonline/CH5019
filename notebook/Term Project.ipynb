{
 "cells": [
  {
   "cell_type": "markdown",
   "metadata": {},
   "source": [
    "# Question 1"
   ]
  },
  {
   "cell_type": "markdown",
   "metadata": {},
   "source": [
    "Write your own code to fit a logistic regression model to the data set described below in a pro- gramming language of your choice. (**IMPORTANT: DO NOT USE ANY IN-BUILT LIBRARIES**)"
   ]
  },
  {
   "cell_type": "markdown",
   "metadata": {},
   "source": [
    "#### Description of Data Set 1:"
   ]
  },
  {
   "cell_type": "markdown",
   "metadata": {},
   "source": [
    "This data set describes the operating conditions of a reactor and contains class labels about whether the reactor will operate or fail under those operating conditions. Your job is to construct a logistic regression model to predict the same.\n",
    "\n",
    " - **q1_data_matrix.csv**: This file contains a 1000 × 5 data matrix. The 5 features are the operating conditions of the reactor; their corresponding ranges are described below:\n",
    " \n",
    "    1. **Temperature:** 400-700 K\n",
    "    2. **Pressure:** 1-50 bar\n",
    "    3. **Feed Flow Rate:** 50-200 kmol/hr\n",
    "    4. **Coolant Flow Rate:** 1000-3600 L/hr\n",
    "    5. **Inlet Reactant Concentration:** 0.1-0.5 mol fraction\n",
    "    \n",
    "    \n",
    " - **q1_labels.csv**: This file contains a 1000 × 1 vector of 0/1 labels for whether the reactor will operate or fail under the corresponding operating conditions.\n",
    "     <br><br>\n",
    "     \n",
    "     -  0: The reactor will operate well under the operating conditions\n",
    "     -  1: The reactor fails under the operating conditions"
   ]
  },
  {
   "cell_type": "markdown",
   "metadata": {},
   "source": [
    "#### Some General Guidelines:"
   ]
  },
  {
   "cell_type": "markdown",
   "metadata": {},
   "source": [
    "1. Partition your data into a training set and a test set. Keep **70%** of your data for **training** and set aside the remaining **30%** for **testing.**\n",
    "2. Fit a logistic regression model on the training set. Choose an appropriate objective function to quantify classification error. **Manually code for the gradient descent procedure** used to find optimum model parameters. (**Note:** You may need to perform multiple initializations to avoid local minima)\n",
    "3. Evaluate the performance of above model on your test data. Report the **confusion matrix** and the F1 **Score**."
   ]
  },
  {
   "cell_type": "markdown",
   "metadata": {},
   "source": [
    "***"
   ]
  },
  {
   "cell_type": "markdown",
   "metadata": {},
   "source": [
    "# Solution"
   ]
  },
  {
   "cell_type": "markdown",
   "metadata": {},
   "source": [
    "### Import Libraries"
   ]
  },
  {
   "cell_type": "code",
   "execution_count": 1,
   "metadata": {},
   "outputs": [],
   "source": [
    "import numpy as np\n",
    "import pandas as pd"
   ]
  },
  {
   "cell_type": "markdown",
   "metadata": {},
   "source": [
    "### Load data\n",
    "\n",
    "Use `pandas.read_csv` method to load data and label the columns accordingly."
   ]
  },
  {
   "cell_type": "code",
   "execution_count": 2,
   "metadata": {},
   "outputs": [],
   "source": [
    "features = pd.read_csv('../data/q1_data_matrix.csv', header=None, names=['temp', 'press', 'ffr', 'cfr', 'irc'])\n",
    "labels = pd.read_csv('../data/q1_labels.csv', header=None, names=['oper'])"
   ]
  },
  {
   "cell_type": "markdown",
   "metadata": {},
   "source": [
    "### Data Exploration\n",
    "\n",
    "Have a look on the first few rows using `pandas.DataFrame.head` method."
   ]
  },
  {
   "cell_type": "code",
   "execution_count": 3,
   "metadata": {},
   "outputs": [
    {
     "data": {
      "text/html": [
       "<div>\n",
       "<style scoped>\n",
       "    .dataframe tbody tr th:only-of-type {\n",
       "        vertical-align: middle;\n",
       "    }\n",
       "\n",
       "    .dataframe tbody tr th {\n",
       "        vertical-align: top;\n",
       "    }\n",
       "\n",
       "    .dataframe thead th {\n",
       "        text-align: right;\n",
       "    }\n",
       "</style>\n",
       "<table border=\"1\" class=\"dataframe\">\n",
       "  <thead>\n",
       "    <tr style=\"text-align: right;\">\n",
       "      <th></th>\n",
       "      <th>temp</th>\n",
       "      <th>press</th>\n",
       "      <th>ffr</th>\n",
       "      <th>cfr</th>\n",
       "      <th>irc</th>\n",
       "    </tr>\n",
       "  </thead>\n",
       "  <tbody>\n",
       "    <tr>\n",
       "      <th>0</th>\n",
       "      <td>406.86</td>\n",
       "      <td>17.66</td>\n",
       "      <td>121.83</td>\n",
       "      <td>2109.20</td>\n",
       "      <td>0.1033</td>\n",
       "    </tr>\n",
       "    <tr>\n",
       "      <th>1</th>\n",
       "      <td>693.39</td>\n",
       "      <td>24.66</td>\n",
       "      <td>133.18</td>\n",
       "      <td>3138.96</td>\n",
       "      <td>0.3785</td>\n",
       "    </tr>\n",
       "    <tr>\n",
       "      <th>2</th>\n",
       "      <td>523.10</td>\n",
       "      <td>23.23</td>\n",
       "      <td>146.55</td>\n",
       "      <td>1058.24</td>\n",
       "      <td>0.4799</td>\n",
       "    </tr>\n",
       "    <tr>\n",
       "      <th>3</th>\n",
       "      <td>612.86</td>\n",
       "      <td>40.97</td>\n",
       "      <td>94.44</td>\n",
       "      <td>1325.12</td>\n",
       "      <td>0.3147</td>\n",
       "    </tr>\n",
       "    <tr>\n",
       "      <th>4</th>\n",
       "      <td>500.28</td>\n",
       "      <td>37.44</td>\n",
       "      <td>185.48</td>\n",
       "      <td>2474.51</td>\n",
       "      <td>0.2284</td>\n",
       "    </tr>\n",
       "  </tbody>\n",
       "</table>\n",
       "</div>"
      ],
      "text/plain": [
       "     temp  press     ffr      cfr     irc\n",
       "0  406.86  17.66  121.83  2109.20  0.1033\n",
       "1  693.39  24.66  133.18  3138.96  0.3785\n",
       "2  523.10  23.23  146.55  1058.24  0.4799\n",
       "3  612.86  40.97   94.44  1325.12  0.3147\n",
       "4  500.28  37.44  185.48  2474.51  0.2284"
      ]
     },
     "execution_count": 3,
     "metadata": {},
     "output_type": "execute_result"
    }
   ],
   "source": [
    "features.head()"
   ]
  },
  {
   "cell_type": "code",
   "execution_count": 4,
   "metadata": {},
   "outputs": [
    {
     "data": {
      "text/html": [
       "<div>\n",
       "<style scoped>\n",
       "    .dataframe tbody tr th:only-of-type {\n",
       "        vertical-align: middle;\n",
       "    }\n",
       "\n",
       "    .dataframe tbody tr th {\n",
       "        vertical-align: top;\n",
       "    }\n",
       "\n",
       "    .dataframe thead th {\n",
       "        text-align: right;\n",
       "    }\n",
       "</style>\n",
       "<table border=\"1\" class=\"dataframe\">\n",
       "  <thead>\n",
       "    <tr style=\"text-align: right;\">\n",
       "      <th></th>\n",
       "      <th>oper</th>\n",
       "    </tr>\n",
       "  </thead>\n",
       "  <tbody>\n",
       "    <tr>\n",
       "      <th>0</th>\n",
       "      <td>0.0</td>\n",
       "    </tr>\n",
       "    <tr>\n",
       "      <th>1</th>\n",
       "      <td>0.0</td>\n",
       "    </tr>\n",
       "    <tr>\n",
       "      <th>2</th>\n",
       "      <td>1.0</td>\n",
       "    </tr>\n",
       "    <tr>\n",
       "      <th>3</th>\n",
       "      <td>1.0</td>\n",
       "    </tr>\n",
       "    <tr>\n",
       "      <th>4</th>\n",
       "      <td>0.0</td>\n",
       "    </tr>\n",
       "  </tbody>\n",
       "</table>\n",
       "</div>"
      ],
      "text/plain": [
       "   oper\n",
       "0   0.0\n",
       "1   0.0\n",
       "2   1.0\n",
       "3   1.0\n",
       "4   0.0"
      ]
     },
     "execution_count": 4,
     "metadata": {},
     "output_type": "execute_result"
    }
   ],
   "source": [
    "labels.head()"
   ]
  },
  {
   "cell_type": "markdown",
   "metadata": {},
   "source": [
    "All features are real numbers so no encoding required.\n",
    "<br>\n",
    "Get the number of samples using `pandas.DataFrame.shape` method."
   ]
  },
  {
   "cell_type": "code",
   "execution_count": 5,
   "metadata": {},
   "outputs": [
    {
     "data": {
      "text/plain": [
       "1000"
      ]
     },
     "execution_count": 5,
     "metadata": {},
     "output_type": "execute_result"
    }
   ],
   "source": [
    "features.shape[0]"
   ]
  },
  {
   "cell_type": "markdown",
   "metadata": {},
   "source": [
    "As the number is just 1000 no need to use batch or stochastic methods for gradient descent.\n",
    "<br>\n",
    "Use `pandas.DataFrame.isnull` & `pandas.DataFrame.sum` together to get the count of rows with null values."
   ]
  },
  {
   "cell_type": "code",
   "execution_count": 6,
   "metadata": {},
   "outputs": [
    {
     "data": {
      "text/plain": [
       "temp     0\n",
       "press    0\n",
       "ffr      0\n",
       "cfr      0\n",
       "irc      0\n",
       "dtype: int64"
      ]
     },
     "execution_count": 6,
     "metadata": {},
     "output_type": "execute_result"
    }
   ],
   "source": [
    "features.isnull().sum()"
   ]
  },
  {
   "cell_type": "markdown",
   "metadata": {},
   "source": [
    "There is no null values in the data. No need to drop any rows.\n",
    "<br>\n",
    "Find the distribution of samples across two classes using `pandas.Series.value_counts`."
   ]
  },
  {
   "cell_type": "markdown",
   "metadata": {},
   "source": [
    "### Split Data"
   ]
  },
  {
   "cell_type": "markdown",
   "metadata": {},
   "source": [
    "Split data into train and test, 70% and 30% respectively using `numpy.split`."
   ]
  },
  {
   "cell_type": "code",
   "execution_count": 7,
   "metadata": {},
   "outputs": [],
   "source": [
    "[train_X, test_X] = np.split(features, [int(0.7*features.shape[0])], axis=0)\n",
    "[train_Y, test_Y] = np.split(labels, [int(0.7*labels.shape[0])], axis=0)"
   ]
  },
  {
   "cell_type": "markdown",
   "metadata": {},
   "source": [
    "Check distribution of samples across the classes in the training set."
   ]
  },
  {
   "cell_type": "code",
   "execution_count": 8,
   "metadata": {},
   "outputs": [
    {
     "data": {
      "text/plain": [
       "0.0    398\n",
       "1.0    302\n",
       "Name: oper, dtype: int64"
      ]
     },
     "execution_count": 8,
     "metadata": {},
     "output_type": "execute_result"
    }
   ],
   "source": [
    "train_Y[\"oper\"].value_counts()"
   ]
  },
  {
   "cell_type": "markdown",
   "metadata": {},
   "source": [
    "Both the classes are sufficiently represented."
   ]
  },
  {
   "cell_type": "markdown",
   "metadata": {},
   "source": [
    "### Feature Scaling"
   ]
  },
  {
   "cell_type": "markdown",
   "metadata": {},
   "source": [
    "Subtract every feature by corresponding mean and divide by corresponding standard deviation. Use `pandas.DataFrame.mean` and `pandas.DataFrame.std` for mean and standard deviation respectively."
   ]
  },
  {
   "cell_type": "code",
   "execution_count": 9,
   "metadata": {},
   "outputs": [
    {
     "data": {
      "text/html": [
       "<div>\n",
       "<style scoped>\n",
       "    .dataframe tbody tr th:only-of-type {\n",
       "        vertical-align: middle;\n",
       "    }\n",
       "\n",
       "    .dataframe tbody tr th {\n",
       "        vertical-align: top;\n",
       "    }\n",
       "\n",
       "    .dataframe thead th {\n",
       "        text-align: right;\n",
       "    }\n",
       "</style>\n",
       "<table border=\"1\" class=\"dataframe\">\n",
       "  <thead>\n",
       "    <tr style=\"text-align: right;\">\n",
       "      <th></th>\n",
       "      <th>temp</th>\n",
       "      <th>press</th>\n",
       "      <th>ffr</th>\n",
       "      <th>cfr</th>\n",
       "      <th>irc</th>\n",
       "    </tr>\n",
       "  </thead>\n",
       "  <tbody>\n",
       "    <tr>\n",
       "      <th>0</th>\n",
       "      <td>-1.598642</td>\n",
       "      <td>-0.534905</td>\n",
       "      <td>-0.063694</td>\n",
       "      <td>-0.207417</td>\n",
       "      <td>-1.705472</td>\n",
       "    </tr>\n",
       "    <tr>\n",
       "      <th>1</th>\n",
       "      <td>1.685504</td>\n",
       "      <td>-0.044677</td>\n",
       "      <td>0.200960</td>\n",
       "      <td>1.142378</td>\n",
       "      <td>0.689765</td>\n",
       "    </tr>\n",
       "    <tr>\n",
       "      <th>2</th>\n",
       "      <td>-0.266323</td>\n",
       "      <td>-0.144823</td>\n",
       "      <td>0.512715</td>\n",
       "      <td>-1.585001</td>\n",
       "      <td>1.572312</td>\n",
       "    </tr>\n",
       "    <tr>\n",
       "      <th>3</th>\n",
       "      <td>0.762487</td>\n",
       "      <td>1.097555</td>\n",
       "      <td>-0.702361</td>\n",
       "      <td>-1.235179</td>\n",
       "      <td>0.134473</td>\n",
       "    </tr>\n",
       "    <tr>\n",
       "      <th>4</th>\n",
       "      <td>-0.527881</td>\n",
       "      <td>0.850340</td>\n",
       "      <td>1.420466</td>\n",
       "      <td>0.271426</td>\n",
       "      <td>-0.616649</td>\n",
       "    </tr>\n",
       "  </tbody>\n",
       "</table>\n",
       "</div>"
      ],
      "text/plain": [
       "       temp     press       ffr       cfr       irc\n",
       "0 -1.598642 -0.534905 -0.063694 -0.207417 -1.705472\n",
       "1  1.685504 -0.044677  0.200960  1.142378  0.689765\n",
       "2 -0.266323 -0.144823  0.512715 -1.585001  1.572312\n",
       "3  0.762487  1.097555 -0.702361 -1.235179  0.134473\n",
       "4 -0.527881  0.850340  1.420466  0.271426 -0.616649"
      ]
     },
     "execution_count": 9,
     "metadata": {},
     "output_type": "execute_result"
    }
   ],
   "source": [
    "X = (train_X-train_X.mean())/train_X.std()\n",
    "X.head()"
   ]
  },
  {
   "cell_type": "markdown",
   "metadata": {},
   "source": [
    "### Bias Term"
   ]
  },
  {
   "cell_type": "markdown",
   "metadata": {},
   "source": [
    "Add a column of all ones to train_X."
   ]
  },
  {
   "cell_type": "code",
   "execution_count": 10,
   "metadata": {},
   "outputs": [
    {
     "data": {
      "text/html": [
       "<div>\n",
       "<style scoped>\n",
       "    .dataframe tbody tr th:only-of-type {\n",
       "        vertical-align: middle;\n",
       "    }\n",
       "\n",
       "    .dataframe tbody tr th {\n",
       "        vertical-align: top;\n",
       "    }\n",
       "\n",
       "    .dataframe thead th {\n",
       "        text-align: right;\n",
       "    }\n",
       "</style>\n",
       "<table border=\"1\" class=\"dataframe\">\n",
       "  <thead>\n",
       "    <tr style=\"text-align: right;\">\n",
       "      <th></th>\n",
       "      <th>bias</th>\n",
       "      <th>temp</th>\n",
       "      <th>press</th>\n",
       "      <th>ffr</th>\n",
       "      <th>cfr</th>\n",
       "      <th>irc</th>\n",
       "    </tr>\n",
       "  </thead>\n",
       "  <tbody>\n",
       "    <tr>\n",
       "      <th>0</th>\n",
       "      <td>1</td>\n",
       "      <td>-1.598642</td>\n",
       "      <td>-0.534905</td>\n",
       "      <td>-0.063694</td>\n",
       "      <td>-0.207417</td>\n",
       "      <td>-1.705472</td>\n",
       "    </tr>\n",
       "    <tr>\n",
       "      <th>1</th>\n",
       "      <td>1</td>\n",
       "      <td>1.685504</td>\n",
       "      <td>-0.044677</td>\n",
       "      <td>0.200960</td>\n",
       "      <td>1.142378</td>\n",
       "      <td>0.689765</td>\n",
       "    </tr>\n",
       "    <tr>\n",
       "      <th>2</th>\n",
       "      <td>1</td>\n",
       "      <td>-0.266323</td>\n",
       "      <td>-0.144823</td>\n",
       "      <td>0.512715</td>\n",
       "      <td>-1.585001</td>\n",
       "      <td>1.572312</td>\n",
       "    </tr>\n",
       "    <tr>\n",
       "      <th>3</th>\n",
       "      <td>1</td>\n",
       "      <td>0.762487</td>\n",
       "      <td>1.097555</td>\n",
       "      <td>-0.702361</td>\n",
       "      <td>-1.235179</td>\n",
       "      <td>0.134473</td>\n",
       "    </tr>\n",
       "    <tr>\n",
       "      <th>4</th>\n",
       "      <td>1</td>\n",
       "      <td>-0.527881</td>\n",
       "      <td>0.850340</td>\n",
       "      <td>1.420466</td>\n",
       "      <td>0.271426</td>\n",
       "      <td>-0.616649</td>\n",
       "    </tr>\n",
       "  </tbody>\n",
       "</table>\n",
       "</div>"
      ],
      "text/plain": [
       "   bias      temp     press       ffr       cfr       irc\n",
       "0     1 -1.598642 -0.534905 -0.063694 -0.207417 -1.705472\n",
       "1     1  1.685504 -0.044677  0.200960  1.142378  0.689765\n",
       "2     1 -0.266323 -0.144823  0.512715 -1.585001  1.572312\n",
       "3     1  0.762487  1.097555 -0.702361 -1.235179  0.134473\n",
       "4     1 -0.527881  0.850340  1.420466  0.271426 -0.616649"
      ]
     },
     "execution_count": 10,
     "metadata": {},
     "output_type": "execute_result"
    }
   ],
   "source": [
    "X.insert(0, 'bias', 1)\n",
    "X.head()"
   ]
  },
  {
   "cell_type": "markdown",
   "metadata": {},
   "source": [
    "### Sigmoid "
   ]
  },
  {
   "cell_type": "markdown",
   "metadata": {},
   "source": [
    "Define a function `sigmoid` that computes sigmoid of input values."
   ]
  },
  {
   "cell_type": "code",
   "execution_count": 11,
   "metadata": {},
   "outputs": [
    {
     "data": {
      "text/plain": [
       "0.5"
      ]
     },
     "execution_count": 11,
     "metadata": {},
     "output_type": "execute_result"
    }
   ],
   "source": [
    "def sigmoid(z):\n",
    "    return 1/(1+np.exp(-z))\n",
    "sigmoid(0)"
   ]
  },
  {
   "cell_type": "markdown",
   "metadata": {},
   "source": [
    "### Loss "
   ]
  },
  {
   "cell_type": "markdown",
   "metadata": {},
   "source": [
    "Define a function `cost` that computes loss given prediction and labels."
   ]
  },
  {
   "cell_type": "code",
   "execution_count": 12,
   "metadata": {},
   "outputs": [],
   "source": [
    "def cost(probability, label):\n",
    "    return (-label*np.log(probability)-(1-label)*np.log(1-probability)).mean()"
   ]
  },
  {
   "cell_type": "markdown",
   "metadata": {},
   "source": [
    "### Gradient"
   ]
  },
  {
   "cell_type": "markdown",
   "metadata": {},
   "source": [
    "Define `gradient` function that computes gradient with respect to each parameter given features, labels and parameters."
   ]
  },
  {
   "cell_type": "code",
   "execution_count": 13,
   "metadata": {},
   "outputs": [],
   "source": [
    "def gradient(features, parameters, labels):\n",
    "    h = sigmoid(np.dot(features, parameters))\n",
    "    return np.dot(features.transpose(), h-labels)/labels.shape[0]"
   ]
  },
  {
   "cell_type": "markdown",
   "metadata": {},
   "source": [
    "### Gradient Descent"
   ]
  },
  {
   "cell_type": "markdown",
   "metadata": {},
   "source": [
    "`gradient_descent` function that performs iterations of gradient descent and returns parameters given features, labels, learning rate and number of iterations."
   ]
  },
  {
   "cell_type": "code",
   "execution_count": 14,
   "metadata": {},
   "outputs": [],
   "source": [
    "def gradient_descent(features, labels, learning_rate, number_of_iterations):\n",
    "    parameters = np.random.normal(0, 1, features.shape[1])\n",
    "    for i in range(number_of_iterations):\n",
    "        grad = gradient(features, parameters, labels)\n",
    "        parameters -= learning_rate*grad\n",
    "        '''print(i+1, cost(sigmoid(np.dot(features, parameters)), labels), grad)'''\n",
    "    return parameters"
   ]
  },
  {
   "cell_type": "markdown",
   "metadata": {},
   "source": [
    "### Predict"
   ]
  },
  {
   "cell_type": "markdown",
   "metadata": {},
   "source": [
    "`predict` function that returns the predicted labels given features, parameters and threshold."
   ]
  },
  {
   "cell_type": "code",
   "execution_count": 15,
   "metadata": {},
   "outputs": [],
   "source": [
    "def predict(features, parameters, threshold):\n",
    "    return sigmoid(np.dot(features, parameters)) >= threshold"
   ]
  },
  {
   "cell_type": "markdown",
   "metadata": {},
   "source": [
    "### Misclassification Error"
   ]
  },
  {
   "cell_type": "markdown",
   "metadata": {},
   "source": [
    "`misclassification_error` function returns misclassification error."
   ]
  },
  {
   "cell_type": "code",
   "execution_count": 16,
   "metadata": {},
   "outputs": [],
   "source": [
    "def misclassification_error(predictions, labels):\n",
    "    return (predictions!=labels).mean()"
   ]
  },
  {
   "cell_type": "markdown",
   "metadata": {},
   "source": [
    "### Driver Loop"
   ]
  },
  {
   "cell_type": "markdown",
   "metadata": {},
   "source": [
    "Do gradient descent to have an idea of the number of iterations at which cost from test set starts going up. Decrease learning rate gradually to avoid local minima and improve learning speed."
   ]
  },
  {
   "cell_type": "code",
   "execution_count": 17,
   "metadata": {},
   "outputs": [
    {
     "name": "stdout",
     "output_type": "stream",
     "text": [
      "1632 0.2607241751931474 0.28092426348015925\n",
      "1633 0.2607238170484276 0.2809242528705977\n",
      "1634 0.26072346004264413 0.28092424282368694\n",
      "1635 0.26072310417203287 0.2809242333367292\n",
      "1636 0.2607227494328424 0.2809242244070373\n",
      "1637 0.26072239582133483 0.28092421603193496\n",
      "1638 0.2607220433337847 0.28092420820875647\n",
      "1639 0.2607216919664801 0.2809242009348467\n",
      "1640 0.26072134171572175 0.2809241942075615\n",
      "1641 0.2607209925778233 0.28092418802426683\n",
      "1642 0.26072064454911126 0.2809241823823395\n",
      "1643 0.26072029762592497 0.28092417727916674\n",
      "1644 0.26071995180461627 0.280924172712146\n",
      "1645 0.2607196070815501 0.28092416867868547\n",
      "1646 0.26071926345310364 0.28092416517620356\n",
      "1647 0.26071892091566706 0.28092416220212885\n",
      "1648 0.26071857946564253 0.28092415975390067\n",
      "1649 0.2607182390994454 0.28092415782896796\n",
      "1650 0.2607178998135029 0.2809241564247902\n",
      "1651 0.26071756160425497 0.2809241555388372\n",
      "1652 0.26071722446815376 0.28092415516858854\n"
     ]
    }
   ],
   "source": [
    "Y = train_Y.iloc[:, 0]\n",
    "X_t = (test_X-test_X.mean())/test_X.std()\n",
    "X_t.insert(0, 'bias', 1)\n",
    "Y_t = test_Y.iloc[:, 0]\n",
    "\n",
    "theta = np.zeros(6)\n",
    "theta_i = np.zeros(6)\n",
    "alpha = 0.1\n",
    "test_cost = 1000\n",
    "i=1\n",
    "while 1:\n",
    "    theta_i -= alpha*gradient(X, theta, Y)\n",
    "    train_cost = cost(sigmoid(np.dot(X, theta_i)), Y)\n",
    "    temp = cost(sigmoid(np.dot(X_t, theta_i)), Y_t)\n",
    "    if temp>test_cost:\n",
    "        if alpha>0.000001:\n",
    "            alpha/=10\n",
    "            continue\n",
    "        else:\n",
    "            break\n",
    "    test_cost=temp\n",
    "    theta = theta_i\n",
    "    print(i, train_cost, test_cost)\n",
    "    i+=1"
   ]
  },
  {
   "cell_type": "code",
   "execution_count": 18,
   "metadata": {},
   "outputs": [
    {
     "name": "stdout",
     "output_type": "stream",
     "text": [
      "Train error :  0.05142857142857143\n",
      "Test error :  0.09\n",
      "[-1.01870462  0.1953828   0.66090329  0.63696202 -3.55495908  0.09227634]\n"
     ]
    }
   ],
   "source": [
    "print(\"Train error : \", misclassification_error(predict(X, theta, 0.5), Y))\n",
    "print(\"Test error : \", misclassification_error(predict(X_t, theta, 0.5), Y_t))\n",
    "print(theta)"
   ]
  },
  {
   "cell_type": "markdown",
   "metadata": {},
   "source": [
    "Perform iterations of `gradient_descent` with multiple initialization and print misclassification error."
   ]
  },
  {
   "cell_type": "code",
   "execution_count": 19,
   "metadata": {},
   "outputs": [
    {
     "name": "stdout",
     "output_type": "stream",
     "text": [
      "1 0.0657 0.1033 [-5.03095568e-01 -1.70836523e-04  4.13488166e-01  4.74309265e-01\n",
      " -2.28682538e+00  7.13150376e-02]\n",
      "2 0.0557 0.1067 [-0.50793752  0.15955294  0.38612939  0.2182976  -2.01009079  0.02718853]\n",
      "3 0.0714 0.0967 [-0.73935068  0.25043545  0.82796664  0.7904199  -2.77355241  0.2764856 ]\n",
      "4 0.0543 0.1133 [-0.44161326  0.16144658  0.33502178  0.29459462 -1.93068409  0.05319208]\n",
      "5 0.0686 0.12 [-0.39112786  0.16357119  0.38356913  0.32158721 -1.9926219  -0.01844572]\n",
      "6 0.06 0.1 [-0.52217244  0.16915082  0.28612531  0.28363751 -2.12382762 -0.07722074]\n",
      "7 0.0986 0.1067 [-0.62453088  0.16510281  0.12756448  0.01144191 -2.32428645 -0.23065443]\n",
      "8 0.06 0.1133 [-0.48234724  0.1757505   0.44621613  0.30844267 -1.96755287  0.02011711]\n",
      "9 0.0771 0.11 [-0.43312925  0.06651961  0.26355579  0.43734356 -2.20894872  0.04208882]\n",
      "10 0.0586 0.1167 [-0.48749015  0.14104629  0.43446645  0.27731126 -1.9194208   0.05177214]\n",
      "11 0.0671 0.1067 [-0.47859503  0.01657322  0.46685402  0.37200293 -2.22441285 -0.00238295]\n",
      "12 0.0671 0.1067 [-0.38397004  0.08867232  0.30797557  0.29898019 -1.89682828  0.07706732]\n",
      "13 0.06 0.1 [-0.48244766  0.01191927  0.39897224  0.28682776 -2.18333109  0.07473783]\n",
      "14 0.0686 0.1033 [-0.45565164  0.11617079  0.25989494  0.35206494 -2.12013462  0.00776301]\n",
      "15 0.0771 0.1033 [-0.52386375 -0.09849776  0.35240341  0.27426714 -2.4493133  -0.01554331]\n",
      "16 0.0514 0.0933 [-0.56893082  0.08973322  0.34965325  0.3992079  -2.13750049  0.04141368]\n",
      "17 0.0614 0.11 [-4.57267220e-01 -1.15881266e-03  3.65244498e-01  2.37134707e-01\n",
      " -2.00484994e+00  8.26189217e-02]\n",
      "18 0.0657 0.1167 [-0.36943317  0.06592287  0.37013719  0.29248337 -2.02331092  0.04618403]\n",
      "19 0.0786 0.12 [-0.40130605 -0.00530211  0.23703365  0.43881198 -2.61162416  0.04134634]\n",
      "20 0.0686 0.1 [-0.4205923   0.16365063  0.19949386  0.28583786 -1.83260377 -0.05965412]\n"
     ]
    }
   ],
   "source": [
    "for i in range(20):\n",
    "    theta_i = gradient_descent(X, Y, 0.01, 1600)\n",
    "    mc_error_train = misclassification_error(predict(X, theta_i, 0.5), Y)\n",
    "    mc_error_test = misclassification_error(predict(X_t, theta_i, 0.5), Y_t)\n",
    "    print(i+1, round(mc_error_train, 4), round(mc_error_test, 4), theta_i)"
   ]
  },
  {
   "cell_type": "markdown",
   "metadata": {},
   "source": [
    "Choose theta with best performance."
   ]
  },
  {
   "cell_type": "markdown",
   "metadata": {},
   "source": [
    "### Confusion Matrix"
   ]
  },
  {
   "cell_type": "markdown",
   "metadata": {},
   "source": [
    "`confusion_matrix` function which returns confusion matrix given predicted labels and original labels."
   ]
  },
  {
   "cell_type": "code",
   "execution_count": 20,
   "metadata": {},
   "outputs": [
    {
     "data": {
      "text/html": [
       "<div>\n",
       "<style scoped>\n",
       "    .dataframe tbody tr th:only-of-type {\n",
       "        vertical-align: middle;\n",
       "    }\n",
       "\n",
       "    .dataframe tbody tr th {\n",
       "        vertical-align: top;\n",
       "    }\n",
       "\n",
       "    .dataframe thead th {\n",
       "        text-align: right;\n",
       "    }\n",
       "</style>\n",
       "<table border=\"1\" class=\"dataframe\">\n",
       "  <thead>\n",
       "    <tr style=\"text-align: right;\">\n",
       "      <th></th>\n",
       "      <th>Predicted 0</th>\n",
       "      <th>Predicted 1</th>\n",
       "    </tr>\n",
       "  </thead>\n",
       "  <tbody>\n",
       "    <tr>\n",
       "      <th>Actual 0</th>\n",
       "      <td>550</td>\n",
       "      <td>35</td>\n",
       "    </tr>\n",
       "    <tr>\n",
       "      <th>Actual 1</th>\n",
       "      <td>22</td>\n",
       "      <td>393</td>\n",
       "    </tr>\n",
       "  </tbody>\n",
       "</table>\n",
       "</div>"
      ],
      "text/plain": [
       "          Predicted 0  Predicted 1\n",
       "Actual 0          550           35\n",
       "Actual 1           22          393"
      ]
     },
     "execution_count": 20,
     "metadata": {},
     "output_type": "execute_result"
    }
   ],
   "source": [
    "def confusion_matrix(predictions, labels):\n",
    "    true_positives = np.logical_and(predictions, labels).sum()\n",
    "    false_positives = np.logical_and(predictions, np.logical_not(labels)).sum()\n",
    "    false_negatives = np.logical_and(np.logical_not(predictions), labels).sum()\n",
    "    true_negatives = np.logical_not(np.logical_or(predictions, labels)).sum()\n",
    "    return pd.DataFrame(data={'Predicted 0': [true_negatives, false_negatives], 'Predicted 1': [false_positives, true_positives]}, index=['Actual 0', 'Actual 1'])\n",
    "\n",
    "X = (features-features.mean())/features.std()\n",
    "X.insert(0, 'bias', 1)\n",
    "Y = labels.iloc[:, 0]\n",
    "CF = confusion_matrix(predict(X, theta, 0.5), Y)\n",
    "CF"
   ]
  },
  {
   "cell_type": "markdown",
   "metadata": {},
   "source": [
    "### F1 Score"
   ]
  },
  {
   "cell_type": "markdown",
   "metadata": {},
   "source": [
    "`f1_score` function calculates F1 score given confusion matrix."
   ]
  },
  {
   "cell_type": "code",
   "execution_count": 21,
   "metadata": {},
   "outputs": [
    {
     "data": {
      "text/plain": [
       "0.9323843416370107"
      ]
     },
     "execution_count": 21,
     "metadata": {},
     "output_type": "execute_result"
    }
   ],
   "source": [
    "def f1_score(confusion_matrix):\n",
    "    return (2*confusion_matrix[\"Predicted 1\"][\"Actual 1\"])/(2*confusion_matrix[\"Predicted 1\"][\"Actual 1\"]+confusion_matrix[\"Predicted 0\"][\"Actual 1\"]+confusion_matrix[\"Predicted 1\"][\"Actual 0\"])\n",
    "\n",
    "f1_score(CF)"
   ]
  },
  {
   "cell_type": "markdown",
   "metadata": {},
   "source": [
    "# Question 2"
   ]
  },
  {
   "cell_type": "markdown",
   "metadata": {},
   "source": [
    "Use the same code developed in Question 1 to fit a logistic regression model to the dataset described below."
   ]
  },
  {
   "cell_type": "markdown",
   "metadata": {},
   "source": [
    "#### Description of Data Set 2:"
   ]
  },
  {
   "cell_type": "markdown",
   "metadata": {},
   "source": [
    "This data set contains data for credit card fraud detection.\n",
    "\n",
    "-  **q2_data_matrix.csv:** This file contains a 100 × 5 data matrix. The 5 features and their corresponding ranges are described below:\n",
    " \n",
    "     1. **Age:** 18-100 years\n",
    "     2. **Transaction Amount:** \\$ 0-5000\n",
    "     3. **Total Monthly Transactions:** \\$ 0-50000\n",
    "     4. **Annual Income:** \\$ 30000-1000000\n",
    "     5. **Gender:** 0/1 (0 - Male, 1 - Female)\n",
    "     \n",
    "\n",
    "-  **q2_labels.csv:** This file contains a 1000 × 1 vector of 0/1 labels for whether the transaction is fraudulent or not.\n",
    "     <br><br>\n",
    "    -  0: The transaction is legitimate\n",
    "    -  1: The transaction is fraudulent\n",
    "    \n",
    "    \n",
    "    \n",
    "1. Report the confusion matrix and the F1 Score for this data set.\n",
    "2. Which data set gives better results better? Can you think of reasons as to why one data set gives better results than the other? (**Hint**: Think of assumptions behind the logistic regression model)\n",
    "3. Can you suggest improvements to the logistic regression model to make it perform better on the unfavorable data set?\n",
    "4. **Bonus Points!**: Implement your suggested improvement as a code and compare the performance of this with vanilla logistic regression."
   ]
  },
  {
   "cell_type": "markdown",
   "metadata": {},
   "source": [
    "# Solution"
   ]
  },
  {
   "cell_type": "markdown",
   "metadata": {},
   "source": [
    "### Load Data"
   ]
  },
  {
   "cell_type": "code",
   "execution_count": 22,
   "metadata": {},
   "outputs": [],
   "source": [
    "features = pd.read_csv('../data/q2_data_matrix.csv', header=None, names=['age', 'tram', 'tomotr', 'anin', 'gen'])\n",
    "labels = pd.read_csv('../data/q2_labels.csv', header=None, names=['fra'])"
   ]
  },
  {
   "cell_type": "markdown",
   "metadata": {},
   "source": [
    "### Data Exploration"
   ]
  },
  {
   "cell_type": "code",
   "execution_count": 23,
   "metadata": {},
   "outputs": [
    {
     "data": {
      "text/html": [
       "<div>\n",
       "<style scoped>\n",
       "    .dataframe tbody tr th:only-of-type {\n",
       "        vertical-align: middle;\n",
       "    }\n",
       "\n",
       "    .dataframe tbody tr th {\n",
       "        vertical-align: top;\n",
       "    }\n",
       "\n",
       "    .dataframe thead th {\n",
       "        text-align: right;\n",
       "    }\n",
       "</style>\n",
       "<table border=\"1\" class=\"dataframe\">\n",
       "  <thead>\n",
       "    <tr style=\"text-align: right;\">\n",
       "      <th></th>\n",
       "      <th>age</th>\n",
       "      <th>tram</th>\n",
       "      <th>tomotr</th>\n",
       "      <th>anin</th>\n",
       "      <th>gen</th>\n",
       "    </tr>\n",
       "  </thead>\n",
       "  <tbody>\n",
       "    <tr>\n",
       "      <th>0</th>\n",
       "      <td>31.0</td>\n",
       "      <td>2897.0</td>\n",
       "      <td>49741.0</td>\n",
       "      <td>339500.0</td>\n",
       "      <td>1.0</td>\n",
       "    </tr>\n",
       "    <tr>\n",
       "      <th>1</th>\n",
       "      <td>46.0</td>\n",
       "      <td>2087.0</td>\n",
       "      <td>23953.0</td>\n",
       "      <td>935000.0</td>\n",
       "      <td>1.0</td>\n",
       "    </tr>\n",
       "    <tr>\n",
       "      <th>2</th>\n",
       "      <td>23.0</td>\n",
       "      <td>1814.0</td>\n",
       "      <td>26056.0</td>\n",
       "      <td>191700.0</td>\n",
       "      <td>0.0</td>\n",
       "    </tr>\n",
       "    <tr>\n",
       "      <th>3</th>\n",
       "      <td>94.0</td>\n",
       "      <td>179.0</td>\n",
       "      <td>30250.0</td>\n",
       "      <td>715900.0</td>\n",
       "      <td>0.0</td>\n",
       "    </tr>\n",
       "    <tr>\n",
       "      <th>4</th>\n",
       "      <td>26.0</td>\n",
       "      <td>3995.0</td>\n",
       "      <td>39466.0</td>\n",
       "      <td>711900.0</td>\n",
       "      <td>0.0</td>\n",
       "    </tr>\n",
       "  </tbody>\n",
       "</table>\n",
       "</div>"
      ],
      "text/plain": [
       "    age    tram   tomotr      anin  gen\n",
       "0  31.0  2897.0  49741.0  339500.0  1.0\n",
       "1  46.0  2087.0  23953.0  935000.0  1.0\n",
       "2  23.0  1814.0  26056.0  191700.0  0.0\n",
       "3  94.0   179.0  30250.0  715900.0  0.0\n",
       "4  26.0  3995.0  39466.0  711900.0  0.0"
      ]
     },
     "execution_count": 23,
     "metadata": {},
     "output_type": "execute_result"
    }
   ],
   "source": [
    "features.head()"
   ]
  },
  {
   "cell_type": "code",
   "execution_count": 24,
   "metadata": {},
   "outputs": [
    {
     "data": {
      "text/html": [
       "<div>\n",
       "<style scoped>\n",
       "    .dataframe tbody tr th:only-of-type {\n",
       "        vertical-align: middle;\n",
       "    }\n",
       "\n",
       "    .dataframe tbody tr th {\n",
       "        vertical-align: top;\n",
       "    }\n",
       "\n",
       "    .dataframe thead th {\n",
       "        text-align: right;\n",
       "    }\n",
       "</style>\n",
       "<table border=\"1\" class=\"dataframe\">\n",
       "  <thead>\n",
       "    <tr style=\"text-align: right;\">\n",
       "      <th></th>\n",
       "      <th>fra</th>\n",
       "    </tr>\n",
       "  </thead>\n",
       "  <tbody>\n",
       "    <tr>\n",
       "      <th>0</th>\n",
       "      <td>1.0</td>\n",
       "    </tr>\n",
       "    <tr>\n",
       "      <th>1</th>\n",
       "      <td>0.0</td>\n",
       "    </tr>\n",
       "    <tr>\n",
       "      <th>2</th>\n",
       "      <td>1.0</td>\n",
       "    </tr>\n",
       "    <tr>\n",
       "      <th>3</th>\n",
       "      <td>0.0</td>\n",
       "    </tr>\n",
       "    <tr>\n",
       "      <th>4</th>\n",
       "      <td>0.0</td>\n",
       "    </tr>\n",
       "  </tbody>\n",
       "</table>\n",
       "</div>"
      ],
      "text/plain": [
       "   fra\n",
       "0  1.0\n",
       "1  0.0\n",
       "2  1.0\n",
       "3  0.0\n",
       "4  0.0"
      ]
     },
     "execution_count": 24,
     "metadata": {},
     "output_type": "execute_result"
    }
   ],
   "source": [
    "labels.head()"
   ]
  },
  {
   "cell_type": "code",
   "execution_count": 25,
   "metadata": {},
   "outputs": [
    {
     "data": {
      "text/plain": [
       "1000"
      ]
     },
     "execution_count": 25,
     "metadata": {},
     "output_type": "execute_result"
    }
   ],
   "source": [
    "features.shape[0]"
   ]
  },
  {
   "cell_type": "code",
   "execution_count": 26,
   "metadata": {},
   "outputs": [
    {
     "data": {
      "text/plain": [
       "age       0\n",
       "tram      0\n",
       "tomotr    0\n",
       "anin      0\n",
       "gen       0\n",
       "dtype: int64"
      ]
     },
     "execution_count": 26,
     "metadata": {},
     "output_type": "execute_result"
    }
   ],
   "source": [
    "features.isnull().sum()"
   ]
  },
  {
   "cell_type": "code",
   "execution_count": 27,
   "metadata": {},
   "outputs": [
    {
     "data": {
      "text/html": [
       "<div>\n",
       "<style scoped>\n",
       "    .dataframe tbody tr th:only-of-type {\n",
       "        vertical-align: middle;\n",
       "    }\n",
       "\n",
       "    .dataframe tbody tr th {\n",
       "        vertical-align: top;\n",
       "    }\n",
       "\n",
       "    .dataframe thead th {\n",
       "        text-align: right;\n",
       "    }\n",
       "</style>\n",
       "<table border=\"1\" class=\"dataframe\">\n",
       "  <thead>\n",
       "    <tr style=\"text-align: right;\">\n",
       "      <th></th>\n",
       "      <th>age</th>\n",
       "      <th>tram</th>\n",
       "      <th>tomotr</th>\n",
       "      <th>anin</th>\n",
       "      <th>gen</th>\n",
       "    </tr>\n",
       "    <tr>\n",
       "      <th>fra</th>\n",
       "      <th></th>\n",
       "      <th></th>\n",
       "      <th></th>\n",
       "      <th></th>\n",
       "      <th></th>\n",
       "    </tr>\n",
       "  </thead>\n",
       "  <tbody>\n",
       "    <tr>\n",
       "      <th>0.0</th>\n",
       "      <td>57.091483</td>\n",
       "      <td>2418.894322</td>\n",
       "      <td>22141.055205</td>\n",
       "      <td>643522.082019</td>\n",
       "      <td>0.479495</td>\n",
       "    </tr>\n",
       "    <tr>\n",
       "      <th>1.0</th>\n",
       "      <td>62.789617</td>\n",
       "      <td>2940.267760</td>\n",
       "      <td>30990.527322</td>\n",
       "      <td>311790.163934</td>\n",
       "      <td>0.543716</td>\n",
       "    </tr>\n",
       "  </tbody>\n",
       "</table>\n",
       "</div>"
      ],
      "text/plain": [
       "           age         tram        tomotr           anin       gen\n",
       "fra                                                               \n",
       "0.0  57.091483  2418.894322  22141.055205  643522.082019  0.479495\n",
       "1.0  62.789617  2940.267760  30990.527322  311790.163934  0.543716"
      ]
     },
     "execution_count": 27,
     "metadata": {},
     "output_type": "execute_result"
    }
   ],
   "source": [
    "pd.concat([features, labels[\"fra\"]], axis=1).groupby(\"fra\").mean()"
   ]
  },
  {
   "cell_type": "markdown",
   "metadata": {},
   "source": [
    "### Split Data"
   ]
  },
  {
   "cell_type": "code",
   "execution_count": 28,
   "metadata": {},
   "outputs": [],
   "source": [
    "[train_X, test_X] = np.split(features, [int(0.7*features.shape[0])], axis=0)\n",
    "[train_Y, test_Y] = np.split(labels, [int(0.7*labels.shape[0])], axis=0)"
   ]
  },
  {
   "cell_type": "markdown",
   "metadata": {},
   "source": [
    "Check distribution of data samples across classes."
   ]
  },
  {
   "cell_type": "code",
   "execution_count": 29,
   "metadata": {},
   "outputs": [
    {
     "data": {
      "text/plain": [
       "0.0    438\n",
       "1.0    262\n",
       "Name: fra, dtype: int64"
      ]
     },
     "execution_count": 29,
     "metadata": {},
     "output_type": "execute_result"
    }
   ],
   "source": [
    "train_Y[\"fra\"].value_counts()"
   ]
  },
  {
   "cell_type": "markdown",
   "metadata": {},
   "source": [
    "Data distribution is around 60%-40%."
   ]
  },
  {
   "cell_type": "markdown",
   "metadata": {},
   "source": [
    "### Feature Scaling"
   ]
  },
  {
   "cell_type": "code",
   "execution_count": 30,
   "metadata": {},
   "outputs": [
    {
     "data": {
      "text/html": [
       "<div>\n",
       "<style scoped>\n",
       "    .dataframe tbody tr th:only-of-type {\n",
       "        vertical-align: middle;\n",
       "    }\n",
       "\n",
       "    .dataframe tbody tr th {\n",
       "        vertical-align: top;\n",
       "    }\n",
       "\n",
       "    .dataframe thead th {\n",
       "        text-align: right;\n",
       "    }\n",
       "</style>\n",
       "<table border=\"1\" class=\"dataframe\">\n",
       "  <thead>\n",
       "    <tr style=\"text-align: right;\">\n",
       "      <th></th>\n",
       "      <th>age</th>\n",
       "      <th>tram</th>\n",
       "      <th>tomotr</th>\n",
       "      <th>anin</th>\n",
       "      <th>gen</th>\n",
       "    </tr>\n",
       "  </thead>\n",
       "  <tbody>\n",
       "    <tr>\n",
       "      <th>0</th>\n",
       "      <td>-1.212844</td>\n",
       "      <td>0.201788</td>\n",
       "      <td>1.676857</td>\n",
       "      <td>-0.634242</td>\n",
       "      <td>0.979496</td>\n",
       "    </tr>\n",
       "    <tr>\n",
       "      <th>1</th>\n",
       "      <td>-0.570286</td>\n",
       "      <td>-0.360923</td>\n",
       "      <td>-0.111253</td>\n",
       "      <td>1.534665</td>\n",
       "      <td>0.979496</td>\n",
       "    </tr>\n",
       "    <tr>\n",
       "      <th>2</th>\n",
       "      <td>-1.555542</td>\n",
       "      <td>-0.550577</td>\n",
       "      <td>0.034567</td>\n",
       "      <td>-1.172553</td>\n",
       "      <td>-1.019475</td>\n",
       "    </tr>\n",
       "    <tr>\n",
       "      <th>3</th>\n",
       "      <td>1.485901</td>\n",
       "      <td>-1.686419</td>\n",
       "      <td>0.325374</td>\n",
       "      <td>0.736668</td>\n",
       "      <td>-1.019475</td>\n",
       "    </tr>\n",
       "    <tr>\n",
       "      <th>4</th>\n",
       "      <td>-1.427031</td>\n",
       "      <td>0.964573</td>\n",
       "      <td>0.964401</td>\n",
       "      <td>0.722099</td>\n",
       "      <td>-1.019475</td>\n",
       "    </tr>\n",
       "  </tbody>\n",
       "</table>\n",
       "</div>"
      ],
      "text/plain": [
       "        age      tram    tomotr      anin       gen\n",
       "0 -1.212844  0.201788  1.676857 -0.634242  0.979496\n",
       "1 -0.570286 -0.360923 -0.111253  1.534665  0.979496\n",
       "2 -1.555542 -0.550577  0.034567 -1.172553 -1.019475\n",
       "3  1.485901 -1.686419  0.325374  0.736668 -1.019475\n",
       "4 -1.427031  0.964573  0.964401  0.722099 -1.019475"
      ]
     },
     "execution_count": 30,
     "metadata": {},
     "output_type": "execute_result"
    }
   ],
   "source": [
    "X = (train_X-train_X.mean())/train_X.std()\n",
    "X.head()"
   ]
  },
  {
   "cell_type": "markdown",
   "metadata": {},
   "source": [
    "### Bias Term"
   ]
  },
  {
   "cell_type": "code",
   "execution_count": 31,
   "metadata": {},
   "outputs": [
    {
     "data": {
      "text/html": [
       "<div>\n",
       "<style scoped>\n",
       "    .dataframe tbody tr th:only-of-type {\n",
       "        vertical-align: middle;\n",
       "    }\n",
       "\n",
       "    .dataframe tbody tr th {\n",
       "        vertical-align: top;\n",
       "    }\n",
       "\n",
       "    .dataframe thead th {\n",
       "        text-align: right;\n",
       "    }\n",
       "</style>\n",
       "<table border=\"1\" class=\"dataframe\">\n",
       "  <thead>\n",
       "    <tr style=\"text-align: right;\">\n",
       "      <th></th>\n",
       "      <th>bias</th>\n",
       "      <th>age</th>\n",
       "      <th>tram</th>\n",
       "      <th>tomotr</th>\n",
       "      <th>anin</th>\n",
       "      <th>gen</th>\n",
       "    </tr>\n",
       "  </thead>\n",
       "  <tbody>\n",
       "    <tr>\n",
       "      <th>0</th>\n",
       "      <td>1</td>\n",
       "      <td>-1.212844</td>\n",
       "      <td>0.201788</td>\n",
       "      <td>1.676857</td>\n",
       "      <td>-0.634242</td>\n",
       "      <td>0.979496</td>\n",
       "    </tr>\n",
       "    <tr>\n",
       "      <th>1</th>\n",
       "      <td>1</td>\n",
       "      <td>-0.570286</td>\n",
       "      <td>-0.360923</td>\n",
       "      <td>-0.111253</td>\n",
       "      <td>1.534665</td>\n",
       "      <td>0.979496</td>\n",
       "    </tr>\n",
       "    <tr>\n",
       "      <th>2</th>\n",
       "      <td>1</td>\n",
       "      <td>-1.555542</td>\n",
       "      <td>-0.550577</td>\n",
       "      <td>0.034567</td>\n",
       "      <td>-1.172553</td>\n",
       "      <td>-1.019475</td>\n",
       "    </tr>\n",
       "    <tr>\n",
       "      <th>3</th>\n",
       "      <td>1</td>\n",
       "      <td>1.485901</td>\n",
       "      <td>-1.686419</td>\n",
       "      <td>0.325374</td>\n",
       "      <td>0.736668</td>\n",
       "      <td>-1.019475</td>\n",
       "    </tr>\n",
       "    <tr>\n",
       "      <th>4</th>\n",
       "      <td>1</td>\n",
       "      <td>-1.427031</td>\n",
       "      <td>0.964573</td>\n",
       "      <td>0.964401</td>\n",
       "      <td>0.722099</td>\n",
       "      <td>-1.019475</td>\n",
       "    </tr>\n",
       "  </tbody>\n",
       "</table>\n",
       "</div>"
      ],
      "text/plain": [
       "   bias       age      tram    tomotr      anin       gen\n",
       "0     1 -1.212844  0.201788  1.676857 -0.634242  0.979496\n",
       "1     1 -0.570286 -0.360923 -0.111253  1.534665  0.979496\n",
       "2     1 -1.555542 -0.550577  0.034567 -1.172553 -1.019475\n",
       "3     1  1.485901 -1.686419  0.325374  0.736668 -1.019475\n",
       "4     1 -1.427031  0.964573  0.964401  0.722099 -1.019475"
      ]
     },
     "execution_count": 31,
     "metadata": {},
     "output_type": "execute_result"
    }
   ],
   "source": [
    "X.insert(0, 'bias', 1)\n",
    "X.head()"
   ]
  },
  {
   "cell_type": "markdown",
   "metadata": {},
   "source": [
    "### Driver Loop"
   ]
  },
  {
   "cell_type": "code",
   "execution_count": 32,
   "metadata": {},
   "outputs": [
    {
     "name": "stdout",
     "output_type": "stream",
     "text": [
      "10433 0.32503496086388933 0.3374106766366127\n",
      "10434 0.3250349608638893 0.3374106766366127\n",
      "10435 0.3250349608638892 0.3374106766366126\n",
      "10436 0.32503496086388933 0.3374106766366124\n",
      "10437 0.3250349608638893 0.3374106766366123\n",
      "10438 0.3250349608638892 0.33741067663661206\n",
      "10439 0.3250349608638893 0.3374106766366119\n",
      "10440 0.3250349608638892 0.3374106766366118\n",
      "10441 0.32503496086388933 0.3374106766366118\n",
      "10442 0.3250349608638892 0.3374106766366117\n",
      "10443 0.3250349608638892 0.3374106766366115\n",
      "10444 0.3250349608638893 0.33741067663661134\n",
      "10445 0.3250349608638892 0.33741067663661123\n",
      "10446 0.3250349608638892 0.337410676636611\n",
      "10447 0.32503496086388933 0.33741067663661084\n",
      "10448 0.32503496086388933 0.3374106766366107\n"
     ]
    }
   ],
   "source": [
    "Y = train_Y.iloc[:, 0]\n",
    "X_t = (test_X-test_X.mean())/test_X.std()\n",
    "X_t.insert(0, 'bias', 1)\n",
    "Y_t = test_Y.iloc[:, 0]\n",
    "\n",
    "theta = np.zeros(6)\n",
    "theta_i = np.zeros(6)\n",
    "alpha = 0.1\n",
    "test_cost = 1000\n",
    "i=1\n",
    "while 1:\n",
    "    theta_i -= alpha*gradient(X, theta, Y)\n",
    "    train_cost = cost(sigmoid(np.dot(X, theta_i)), Y)\n",
    "    temp = cost(sigmoid(np.dot(X_t, theta_i)), Y_t)\n",
    "    if temp>test_cost:\n",
    "        if alpha>0.000001:\n",
    "            alpha/=10\n",
    "            continue\n",
    "        else:\n",
    "            break\n",
    "    test_cost = temp\n",
    "    theta = theta_i\n",
    "    print(i, train_cost, test_cost)\n",
    "    i+=1"
   ]
  },
  {
   "cell_type": "code",
   "execution_count": 33,
   "metadata": {},
   "outputs": [
    {
     "name": "stdout",
     "output_type": "stream",
     "text": [
      "Train error :  0.1\n",
      "Test error :  0.13\n",
      "[-1.19057535  0.54762267  0.87412537  1.45826855 -2.45583991  0.12145785]\n"
     ]
    }
   ],
   "source": [
    "print(\"Train error : \", misclassification_error(predict(X, theta, 0.5), Y))\n",
    "print(\"Test error : \", misclassification_error(predict(X_t, theta, 0.5), Y_t))\n",
    "print(theta)"
   ]
  },
  {
   "cell_type": "code",
   "execution_count": 34,
   "metadata": {},
   "outputs": [
    {
     "name": "stdout",
     "output_type": "stream",
     "text": [
      "1 0.1443 0.1267 [-0.80333384  0.30825477  0.27741166  0.73786549 -1.07156181 -0.02181775]\n",
      "2 0.1143 0.1433 [-0.45982168  0.09345891  0.42228359  0.7881262  -1.31119965  0.08785956]\n",
      "3 0.1329 0.15 [-0.29010296  0.21698243  0.23755198  0.93149722 -1.37764829  0.16540425]\n",
      "4 0.1343 0.1267 [-0.83064526  0.07637762  0.37376378  0.95240723 -1.44414594 -0.15371178]\n",
      "5 0.1414 0.13 [-0.95871433  0.65056088  0.26108463  1.12996367 -1.35267248  0.27247142]\n",
      "6 0.1771 0.2133 [-0.70488941  0.65644252  1.24130969  1.17727218 -1.44424639  0.06864588]\n",
      "7 0.1014 0.1033 [-0.60550231  0.18731487  0.25842826  0.6140183  -1.0639407  -0.04296883]\n",
      "8 0.1343 0.1533 [-0.48325583  0.1011045   0.50227935  0.792766   -0.98406597  0.02987987]\n",
      "9 0.1286 0.14 [-0.92440445  0.11582874  0.56008637  0.73457553 -1.58040824  0.25429075]\n",
      "10 0.1286 0.1533 [-0.26472031  0.26068041  0.12954925  0.60965837 -0.99593543  0.27094449]\n",
      "11 0.1229 0.1467 [-0.7212136   0.31425471  0.74593445  1.00714716 -1.63784677  0.0673217 ]\n",
      "12 0.17 0.1833 [-1.1460129   0.92113154 -0.23181316  0.8679345  -1.85512561  0.78895311]\n",
      "13 0.1357 0.1267 [-0.49686059  0.18045228  0.01858988  0.79172053 -1.01388701  0.13475207]\n",
      "14 0.1343 0.1733 [-0.72801025  0.01210963  0.69415785  0.70146551 -1.36409794 -0.10412912]\n",
      "15 0.1486 0.1667 [-1.43487692  0.58135254  0.95137246  1.05661641 -2.08565155 -0.67582128]\n",
      "16 0.1157 0.14 [-1.15754051  0.77776456  0.62637834  0.9397739  -1.85715543  0.12604622]\n",
      "17 0.1457 0.1733 [-1.07091286  0.4534306   0.9788532   0.66063116 -1.69308076  0.34908064]\n",
      "18 0.1229 0.1533 [-0.86019305  0.0634375   0.66607954  0.65119064 -1.9813613   0.10771826]\n",
      "19 0.21 0.19 [-0.94335564 -0.18789854 -0.05548611  0.75361015 -1.11273978  0.25070873]\n",
      "20 0.13 0.1233 [-0.71981427  0.11143276  0.05148688  0.68826428 -1.36013398  0.09707957]\n"
     ]
    }
   ],
   "source": [
    "for i in range(20):\n",
    "    theta_i = gradient_descent(X, Y, 0.01, 1000)\n",
    "    mc_error_train = misclassification_error(predict(X, theta_i, 0.5), Y)\n",
    "    mc_error_test = misclassification_error(predict(X_t, theta_i, 0.5), Y_t)\n",
    "    print(i+1, round(mc_error_train, 4), round(mc_error_test, 4), theta_i)"
   ]
  },
  {
   "cell_type": "markdown",
   "metadata": {},
   "source": [
    "Choose theta with least missclassification error."
   ]
  },
  {
   "cell_type": "markdown",
   "metadata": {},
   "source": [
    "### Confusion Matrix"
   ]
  },
  {
   "cell_type": "code",
   "execution_count": 35,
   "metadata": {},
   "outputs": [
    {
     "data": {
      "text/html": [
       "<div>\n",
       "<style scoped>\n",
       "    .dataframe tbody tr th:only-of-type {\n",
       "        vertical-align: middle;\n",
       "    }\n",
       "\n",
       "    .dataframe tbody tr th {\n",
       "        vertical-align: top;\n",
       "    }\n",
       "\n",
       "    .dataframe thead th {\n",
       "        text-align: right;\n",
       "    }\n",
       "</style>\n",
       "<table border=\"1\" class=\"dataframe\">\n",
       "  <thead>\n",
       "    <tr style=\"text-align: right;\">\n",
       "      <th></th>\n",
       "      <th>Predicted 0</th>\n",
       "      <th>Predicted 1</th>\n",
       "    </tr>\n",
       "  </thead>\n",
       "  <tbody>\n",
       "    <tr>\n",
       "      <th>Actual 0</th>\n",
       "      <td>583</td>\n",
       "      <td>51</td>\n",
       "    </tr>\n",
       "    <tr>\n",
       "      <th>Actual 1</th>\n",
       "      <td>56</td>\n",
       "      <td>310</td>\n",
       "    </tr>\n",
       "  </tbody>\n",
       "</table>\n",
       "</div>"
      ],
      "text/plain": [
       "          Predicted 0  Predicted 1\n",
       "Actual 0          583           51\n",
       "Actual 1           56          310"
      ]
     },
     "execution_count": 35,
     "metadata": {},
     "output_type": "execute_result"
    }
   ],
   "source": [
    "X = (features-features.mean())/features.std()\n",
    "X.insert(0, 'bias', 1)\n",
    "Y = labels.iloc[:, 0]\n",
    "CF = confusion_matrix(predict(X, theta, 0.5), Y)\n",
    "CF"
   ]
  },
  {
   "cell_type": "markdown",
   "metadata": {},
   "source": [
    "### F1 Score"
   ]
  },
  {
   "cell_type": "code",
   "execution_count": 36,
   "metadata": {},
   "outputs": [
    {
     "data": {
      "text/plain": [
       "0.8528198074277854"
      ]
     },
     "execution_count": 36,
     "metadata": {},
     "output_type": "execute_result"
    }
   ],
   "source": [
    "f1_score(CF)"
   ]
  },
  {
   "cell_type": "markdown",
   "metadata": {},
   "source": [
    "### Inference"
   ]
  },
  {
   "cell_type": "markdown",
   "metadata": {},
   "source": [
    "The first dataset performs better using this model.\n",
    "\n",
    "Logistic regression can only classify linearly separable data. This might be the reason for poor performance of second data set. Data sample imbalance across classes also might be a reason."
   ]
  },
  {
   "cell_type": "markdown",
   "metadata": {},
   "source": [
    "### Improvements"
   ]
  },
  {
   "cell_type": "markdown",
   "metadata": {},
   "source": [
    "One possible solution is by expanding the basis to include higher order terms of features into dataset. For further improvements remove features that seems to be independent by trial and error to get an optimum set of features."
   ]
  },
  {
   "cell_type": "markdown",
   "metadata": {},
   "source": [
    "### Bonus"
   ]
  },
  {
   "cell_type": "markdown",
   "metadata": {},
   "source": [
    "Define function `basis_expansion` to introduce second order terms into features set."
   ]
  },
  {
   "cell_type": "code",
   "execution_count": 37,
   "metadata": {},
   "outputs": [],
   "source": [
    "def basis_expansion(X):\n",
    "    for i in range(0, 5):\n",
    "        for j in range(i, 5):\n",
    "            X[str(i)+str(j)]=X.iloc[:, i]*X.iloc[:, j]\n",
    "    return X"
   ]
  },
  {
   "cell_type": "code",
   "execution_count": 38,
   "metadata": {},
   "outputs": [],
   "source": [
    "features = basis_expansion(features)"
   ]
  },
  {
   "cell_type": "code",
   "execution_count": 39,
   "metadata": {},
   "outputs": [
    {
     "name": "stdout",
     "output_type": "stream",
     "text": [
      "2172 0.31701659943561133 0.33049671719211754\n",
      "2173 0.3170137281318014 0.33049671378561624\n",
      "2174 0.317010858048474 0.33049671066126163\n",
      "2175 0.3170079891848145 0.33049670781857965\n",
      "2176 0.3170051215400083 0.3304967052570955\n",
      "2177 0.3170022551132422 0.3304967029763375\n",
      "2178 0.3169993899037031 0.33049670097583295\n",
      "2179 0.3169965259105795 0.3304966992551112\n",
      "2180 0.3169936631330602 0.33049669781370267\n",
      "2181 0.3169908015703349 0.330496696651138\n",
      "2182 0.3169879412215944 0.33049669576695007\n",
      "2183 0.3169850820860298 0.33049669516067165\n",
      "2184 0.3169822241628334 0.33049669483183675\n",
      "2185 0.3169793674511981 0.3304966947799804\n"
     ]
    }
   ],
   "source": [
    "[train_X, test_X] = np.split(features, [int(0.7*features.shape[0])], axis=0)\n",
    "[train_Y, test_Y] = np.split(labels, [int(0.7*labels.shape[0])], axis=0)\n",
    "\n",
    "X = (train_X-train_X.mean())/train_X.std()\n",
    "X.insert(0, 'bias', 1)\n",
    "Y = train_Y.iloc[:, 0]\n",
    "X_t = (test_X-test_X.mean())/test_X.std()\n",
    "X_t.insert(0, 'bias', 1)\n",
    "Y_t = test_Y.iloc[:, 0]\n",
    "\n",
    "theta = np.zeros(21)\n",
    "theta_i = np.zeros(21)\n",
    "alpha = 0.1\n",
    "test_cost = 1000\n",
    "i=1\n",
    "while 1:\n",
    "    theta_i -= alpha*gradient(X, theta, Y)\n",
    "    train_cost = cost(sigmoid(np.dot(X, theta_i)), Y)\n",
    "    temp = cost(sigmoid(np.dot(X_t, theta_i)), Y_t)\n",
    "    if temp>test_cost:\n",
    "        if alpha>0.000001:\n",
    "            alpha/=10\n",
    "            continue\n",
    "        else:\n",
    "            break\n",
    "    test_cost = temp\n",
    "    theta = theta_i\n",
    "    print(i, train_cost, test_cost)\n",
    "    i+=1"
   ]
  },
  {
   "cell_type": "code",
   "execution_count": 40,
   "metadata": {},
   "outputs": [
    {
     "name": "stdout",
     "output_type": "stream",
     "text": [
      "Train error :  0.09857142857142857\n",
      "Test error :  0.13333333333333333\n",
      "[-0.94683286  0.41616011  0.45021329  1.47993344 -0.74432487  0.12890708\n",
      " -0.09742759  0.12086925  0.48203783 -0.32741465  0.03540156  0.21571053\n",
      "  0.41958038 -0.51383393  0.22243022 -0.09342475 -1.13939958 -0.06235577\n",
      " -0.13042047 -0.43062858  0.12890708]\n"
     ]
    }
   ],
   "source": [
    "print(\"Train error : \", misclassification_error(predict(X, theta, 0.5), Y))\n",
    "print(\"Test error : \", misclassification_error(predict(X_t, theta, 0.5), Y_t))\n",
    "print(theta)"
   ]
  },
  {
   "cell_type": "code",
   "execution_count": 41,
   "metadata": {},
   "outputs": [
    {
     "data": {
      "text/html": [
       "<div>\n",
       "<style scoped>\n",
       "    .dataframe tbody tr th:only-of-type {\n",
       "        vertical-align: middle;\n",
       "    }\n",
       "\n",
       "    .dataframe tbody tr th {\n",
       "        vertical-align: top;\n",
       "    }\n",
       "\n",
       "    .dataframe thead th {\n",
       "        text-align: right;\n",
       "    }\n",
       "</style>\n",
       "<table border=\"1\" class=\"dataframe\">\n",
       "  <thead>\n",
       "    <tr style=\"text-align: right;\">\n",
       "      <th></th>\n",
       "      <th>Predicted 0</th>\n",
       "      <th>Predicted 1</th>\n",
       "    </tr>\n",
       "  </thead>\n",
       "  <tbody>\n",
       "    <tr>\n",
       "      <th>Actual 0</th>\n",
       "      <td>591</td>\n",
       "      <td>43</td>\n",
       "    </tr>\n",
       "    <tr>\n",
       "      <th>Actual 1</th>\n",
       "      <td>66</td>\n",
       "      <td>300</td>\n",
       "    </tr>\n",
       "  </tbody>\n",
       "</table>\n",
       "</div>"
      ],
      "text/plain": [
       "          Predicted 0  Predicted 1\n",
       "Actual 0          591           43\n",
       "Actual 1           66          300"
      ]
     },
     "execution_count": 41,
     "metadata": {},
     "output_type": "execute_result"
    }
   ],
   "source": [
    "X = (features-features.mean())/features.std()\n",
    "X.insert(0, 'bias', 1)\n",
    "Y = labels.iloc[:, 0]\n",
    "CF = confusion_matrix(predict(X, theta, 0.5), Y)\n",
    "CF"
   ]
  },
  {
   "cell_type": "code",
   "execution_count": 42,
   "metadata": {},
   "outputs": [
    {
     "data": {
      "text/plain": [
       "0.846262341325811"
      ]
     },
     "execution_count": 42,
     "metadata": {},
     "output_type": "execute_result"
    }
   ],
   "source": [
    "f1_score(CF)"
   ]
  },
  {
   "cell_type": "markdown",
   "metadata": {},
   "source": [
    "### Feature Selection"
   ]
  },
  {
   "cell_type": "markdown",
   "metadata": {},
   "source": [
    "Drop features that are independent or irrelevant by trial and error."
   ]
  },
  {
   "cell_type": "code",
   "execution_count": 43,
   "metadata": {},
   "outputs": [
    {
     "data": {
      "text/html": [
       "<div>\n",
       "<style scoped>\n",
       "    .dataframe tbody tr th:only-of-type {\n",
       "        vertical-align: middle;\n",
       "    }\n",
       "\n",
       "    .dataframe tbody tr th {\n",
       "        vertical-align: top;\n",
       "    }\n",
       "\n",
       "    .dataframe thead th {\n",
       "        text-align: right;\n",
       "    }\n",
       "</style>\n",
       "<table border=\"1\" class=\"dataframe\">\n",
       "  <thead>\n",
       "    <tr style=\"text-align: right;\">\n",
       "      <th></th>\n",
       "      <th>age</th>\n",
       "      <th>tram</th>\n",
       "      <th>tomotr</th>\n",
       "      <th>anin</th>\n",
       "      <th>gen</th>\n",
       "      <th>00</th>\n",
       "      <th>01</th>\n",
       "      <th>03</th>\n",
       "    </tr>\n",
       "  </thead>\n",
       "  <tbody>\n",
       "    <tr>\n",
       "      <th>0</th>\n",
       "      <td>31.0</td>\n",
       "      <td>2897.0</td>\n",
       "      <td>49741.0</td>\n",
       "      <td>339500.0</td>\n",
       "      <td>1.0</td>\n",
       "      <td>961.0</td>\n",
       "      <td>89807.0</td>\n",
       "      <td>10524500.0</td>\n",
       "    </tr>\n",
       "    <tr>\n",
       "      <th>1</th>\n",
       "      <td>46.0</td>\n",
       "      <td>2087.0</td>\n",
       "      <td>23953.0</td>\n",
       "      <td>935000.0</td>\n",
       "      <td>1.0</td>\n",
       "      <td>2116.0</td>\n",
       "      <td>96002.0</td>\n",
       "      <td>43010000.0</td>\n",
       "    </tr>\n",
       "    <tr>\n",
       "      <th>2</th>\n",
       "      <td>23.0</td>\n",
       "      <td>1814.0</td>\n",
       "      <td>26056.0</td>\n",
       "      <td>191700.0</td>\n",
       "      <td>0.0</td>\n",
       "      <td>529.0</td>\n",
       "      <td>41722.0</td>\n",
       "      <td>4409100.0</td>\n",
       "    </tr>\n",
       "    <tr>\n",
       "      <th>3</th>\n",
       "      <td>94.0</td>\n",
       "      <td>179.0</td>\n",
       "      <td>30250.0</td>\n",
       "      <td>715900.0</td>\n",
       "      <td>0.0</td>\n",
       "      <td>8836.0</td>\n",
       "      <td>16826.0</td>\n",
       "      <td>67294600.0</td>\n",
       "    </tr>\n",
       "    <tr>\n",
       "      <th>4</th>\n",
       "      <td>26.0</td>\n",
       "      <td>3995.0</td>\n",
       "      <td>39466.0</td>\n",
       "      <td>711900.0</td>\n",
       "      <td>0.0</td>\n",
       "      <td>676.0</td>\n",
       "      <td>103870.0</td>\n",
       "      <td>18509400.0</td>\n",
       "    </tr>\n",
       "  </tbody>\n",
       "</table>\n",
       "</div>"
      ],
      "text/plain": [
       "    age    tram   tomotr      anin  gen      00        01          03\n",
       "0  31.0  2897.0  49741.0  339500.0  1.0   961.0   89807.0  10524500.0\n",
       "1  46.0  2087.0  23953.0  935000.0  1.0  2116.0   96002.0  43010000.0\n",
       "2  23.0  1814.0  26056.0  191700.0  0.0   529.0   41722.0   4409100.0\n",
       "3  94.0   179.0  30250.0  715900.0  0.0  8836.0   16826.0  67294600.0\n",
       "4  26.0  3995.0  39466.0  711900.0  0.0   676.0  103870.0  18509400.0"
      ]
     },
     "execution_count": 43,
     "metadata": {},
     "output_type": "execute_result"
    }
   ],
   "source": [
    "features = features.drop(columns=['44', '02', '04', '13', '14', '24', '34'])\n",
    "features = features.drop(columns=['33', '22', '11', '12', '23'])\n",
    "'''features = features.drop(columns=['03'])'''\n",
    "features.head()"
   ]
  },
  {
   "cell_type": "code",
   "execution_count": 44,
   "metadata": {},
   "outputs": [
    {
     "name": "stdout",
     "output_type": "stream",
     "text": [
      "1773 0.3266623137173051 0.3375566504135404\n",
      "1774 0.3266610703488829 0.337556641306663\n",
      "1775 0.3266598276220403 0.3375566328860763\n",
      "1776 0.3266585855363516 0.33755662515060625\n",
      "1777 0.3266573440913919 0.3375566180990825\n",
      "1778 0.32665610328673683 0.3375566117303371\n",
      "1779 0.32665486312196235 0.3375566060432051\n",
      "1780 0.32665362359664524 0.33755660103652485\n",
      "1781 0.32665238471036273 0.3375565967091372\n",
      "1782 0.3266511464626926 0.3375565930598866\n",
      "1783 0.32664990885321316 0.3375565900876198\n",
      "1784 0.32664867188150326 0.33755658779118713\n",
      "1785 0.3266474355471424 0.337556586169441\n",
      "1786 0.3266461998497103 0.3375565852212373\n",
      "1787 0.3266449647887878 0.33755658494543495\n"
     ]
    }
   ],
   "source": [
    "[train_X, test_X] = np.split(features, [int(0.7*features.shape[0])], axis=0)\n",
    "[train_Y, test_Y] = np.split(labels, [int(0.7*labels.shape[0])], axis=0)\n",
    "\n",
    "X = (train_X-train_X.mean())/train_X.std()\n",
    "X.insert(0, 'bias', 1)\n",
    "Y = train_Y.iloc[:, 0]\n",
    "X_t = (test_X-test_X.mean())/test_X.std()\n",
    "X_t.insert(0, 'bias', 1)\n",
    "Y_t = test_Y.iloc[:, 0]\n",
    "\n",
    "theta = np.zeros(9)\n",
    "theta_i = np.zeros(9)\n",
    "alpha = 0.1\n",
    "test_cost = 1000\n",
    "i=1\n",
    "while 1:\n",
    "    theta_i -= alpha*gradient(X, theta, Y)\n",
    "    train_cost = cost(sigmoid(np.dot(X, theta_i)), Y)\n",
    "    temp = cost(sigmoid(np.dot(X_t, theta_i)), Y_t)\n",
    "    if temp>test_cost:\n",
    "        if alpha>0.000001:\n",
    "            alpha/=10\n",
    "            continue\n",
    "        else:\n",
    "            break\n",
    "    theta = theta_i\n",
    "    test_cost = temp\n",
    "    print(i, train_cost, test_cost)\n",
    "    i+=1\n"
   ]
  },
  {
   "cell_type": "code",
   "execution_count": 45,
   "metadata": {},
   "outputs": [
    {
     "name": "stdout",
     "output_type": "stream",
     "text": [
      "Train error :  0.09857142857142857\n",
      "Test error :  0.12666666666666668\n",
      "[-1.15077492  0.56165362  0.70445155  1.42492256 -1.94506542  0.12742219\n",
      "  0.13461665  0.19359139 -0.60572495]\n"
     ]
    }
   ],
   "source": [
    "print(\"Train error : \", misclassification_error(predict(X, theta, 0.5), Y))\n",
    "print(\"Test error : \", misclassification_error(predict(X_t, theta, 0.5), Y_t))\n",
    "print(theta)"
   ]
  },
  {
   "cell_type": "code",
   "execution_count": 46,
   "metadata": {},
   "outputs": [
    {
     "data": {
      "text/html": [
       "<div>\n",
       "<style scoped>\n",
       "    .dataframe tbody tr th:only-of-type {\n",
       "        vertical-align: middle;\n",
       "    }\n",
       "\n",
       "    .dataframe tbody tr th {\n",
       "        vertical-align: top;\n",
       "    }\n",
       "\n",
       "    .dataframe thead th {\n",
       "        text-align: right;\n",
       "    }\n",
       "</style>\n",
       "<table border=\"1\" class=\"dataframe\">\n",
       "  <thead>\n",
       "    <tr style=\"text-align: right;\">\n",
       "      <th></th>\n",
       "      <th>Predicted 0</th>\n",
       "      <th>Predicted 1</th>\n",
       "    </tr>\n",
       "  </thead>\n",
       "  <tbody>\n",
       "    <tr>\n",
       "      <th>Actual 0</th>\n",
       "      <td>583</td>\n",
       "      <td>51</td>\n",
       "    </tr>\n",
       "    <tr>\n",
       "      <th>Actual 1</th>\n",
       "      <td>55</td>\n",
       "      <td>311</td>\n",
       "    </tr>\n",
       "  </tbody>\n",
       "</table>\n",
       "</div>"
      ],
      "text/plain": [
       "          Predicted 0  Predicted 1\n",
       "Actual 0          583           51\n",
       "Actual 1           55          311"
      ]
     },
     "execution_count": 46,
     "metadata": {},
     "output_type": "execute_result"
    }
   ],
   "source": [
    "X = (features-features.mean())/features.std()\n",
    "X.insert(0, 'bias', 1)\n",
    "Y = labels.iloc[:, 0]\n",
    "CF = confusion_matrix(predict(X, theta, 0.5), Y)\n",
    "CF"
   ]
  },
  {
   "cell_type": "code",
   "execution_count": 47,
   "metadata": {},
   "outputs": [
    {
     "data": {
      "text/plain": [
       "0.8543956043956044"
      ]
     },
     "execution_count": 47,
     "metadata": {},
     "output_type": "execute_result"
    }
   ],
   "source": [
    "f1_score(CF)"
   ]
  }
 ],
 "metadata": {
  "kernelspec": {
   "display_name": "Python 3",
   "language": "python",
   "name": "python3"
  },
  "language_info": {
   "codemirror_mode": {
    "name": "ipython",
    "version": 3
   },
   "file_extension": ".py",
   "mimetype": "text/x-python",
   "name": "python",
   "nbconvert_exporter": "python",
   "pygments_lexer": "ipython3",
   "version": "3.6.5"
  }
 },
 "nbformat": 4,
 "nbformat_minor": 2
}
